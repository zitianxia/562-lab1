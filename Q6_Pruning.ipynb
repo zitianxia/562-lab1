{
  "cells": [
    {
      "cell_type": "code",
      "execution_count": 2,
      "metadata": {
        "id": "SblI4JHed_gb",
        "colab": {
          "base_uri": "https://localhost:8080/"
        },
        "outputId": "9b90275e-871f-4d8e-c6ed-bd0ff6a9dab0"
      },
      "outputs": [
        {
          "output_type": "stream",
          "name": "stdout",
          "text": [
            "Mounted at /content/drive\n",
            "/content\n",
            "/content\n"
          ]
        }
      ],
      "source": [
        "# this mounts your Google Drive to the Colab VM.\n",
        "from google.colab import drive\n",
        "drive.mount('/content/drive', force_remount=True)\n",
        "\n",
        "# enter the foldername in your Drive where you have saved the unzipped\n",
        "# assignment folder, e.g. 'ece697ls/assignments/assignment3/'\n",
        "FOLDERNAME = \"ECE562 assignments\"\n",
        "assert FOLDERNAME is not None, \"[!] Enter the foldername.\"\n",
        "\n",
        "# now that we've mounted your Drive, this ensures that\n",
        "# the Python interpreter of the Colab VM can load\n",
        "# python files from within it.\n",
        "import sys\n",
        "sys.path.append('/content/drive/My Drive/{}'.format(FOLDERNAME))\n",
        "\n",
        "%cd /content\n",
        "!pwd"
      ]
    },
    {
      "cell_type": "markdown",
      "metadata": {
        "tags": [
          "pdf-title"
        ],
        "id": "rDCKl_T8d_gg"
      },
      "source": [
        "# Pruning\n",
        "\n",
        "After learning, neural networks have modified and learned a set of parameters to perform our classification task. However, such parameters are costly to maintain and do not hold the same importance.\n",
        "\n",
        "Wouldn't it be great could optimize our resource usage by dropping less important values ? This is where pruning comes into play.\n",
        "\n",
        "Pruning is a technique that cuts off parameters/structures from a model to increase sparcity and decrease overall model size, similar to cutting leafs or branches from bushes and trees. This process can lead to smaller memory consumption with minimal accuracy reduction. Moreover, pruning the network may also provide a speedup since there will be less operations being performed.\n",
        "\n",
        "The pruning process can be performed during the end of an epoch of training or after training is complete. Experimenting to find out which way works the best is part of the fun !"
      ]
    },
    {
      "cell_type": "code",
      "source": [
        "from assignment1.ece662.pruning_helper import test_model, load_model\n",
        "from assignment1.ece662.data_utils import get_CINIC10_data\n",
        "import os"
      ],
      "metadata": {
        "id": "P242B5PEtU6N"
      },
      "execution_count": 4,
      "outputs": []
    },
    {
      "cell_type": "markdown",
      "source": [
        "Below we will load a pre-trained model for you to work on. If you prefer, you can save your own model from the previous Tensorflow/Pytorch task and load it here."
      ],
      "metadata": {
        "id": "76IT2Z-P7aYm"
      }
    },
    {
      "cell_type": "code",
      "source": [
        "#This code may take a while to execute as it is training a network form scratch\n",
        "\n",
        "data = get_CINIC10_data()\n",
        "mode = 'torch'#torch or tensorflow\n",
        "\n",
        "test_data = [data['X_test'],data['y_test']]\n",
        "\n",
        "path = '/content/drive/MyDrive/ECE562 assignments/assignment1/ece662/models/torch.model'\n",
        "model = load_model(path, mode=mode)\n",
        "test_model(model, test_data, mode=mode)\n"
      ],
      "metadata": {
        "id": "jKM5JRLtuVbJ",
        "colab": {
          "base_uri": "https://localhost:8080/"
        },
        "outputId": "99cf9724-3f78-47ee-ce0c-9126d00a4326"
      },
      "execution_count": 21,
      "outputs": [
        {
          "output_type": "stream",
          "name": "stdout",
          "text": [
            "Test Acc: 0.5120\n"
          ]
        }
      ]
    },
    {
      "cell_type": "markdown",
      "metadata": {
        "tags": [
          "pdf-ignore"
        ],
        "id": "yZOsPryFd_gi"
      },
      "source": [
        "## Unstructured Pruning\n",
        "\n",
        "Unstructured Pruning is usually related to the pruning of weights in neural networks. The general idea is to select a set of weights according to a policy and setting them up to zero.\n",
        "\n",
        "Common policies are random weight selection or selecting the smallers weights.\n",
        "Unstructured Pruning can be performed in one or multiple layers within the same network.\n",
        "\n",
        "Altough in theory Unstructured Pruning should decrease the number of operations performed during execution there should be explicit support within the framework or hardware to bypass such operations, otherwise it will just operated over zero."
      ]
    },
    {
      "cell_type": "markdown",
      "source": [
        "### Perform Pruning\n",
        "\n",
        "Using the model trained in the previous step using pytorch, perform unstructured pruning in the weights of the model by removing x% of the smallest weights.\n",
        "\n",
        "*   Increment global pruning by 10% until reaching total of 80% pruned weights\n",
        "*   Perform inference at the end of each pruning and observe the impact into the accuracy.\n",
        "\n",
        "\n",
        "Note: The percentages are related to the entire model, not per layer.\n",
        "\n"
      ],
      "metadata": {
        "id": "gjxdSF2xmCei"
      }
    },
    {
      "cell_type": "code",
      "source": [
        "################################################################################\n",
        "# TODO: Perform unstructured Pruning over the trained model using 3 different\n",
        "# prunning percentages.\n",
        "################################################################################\n",
        "# *****START OF YOUR CODE (DO NOT DELETE/MODIFY THIS LINE)*****\n",
        "import torch\n",
        "import torch.nn as nn\n",
        "import torch.nn.utils.prune as prune\n",
        "\n",
        "# pick all Conv2d and Linear weights\n",
        "pairs = [(m, \"weight\") for m in model.modules() if isinstance(m, (nn.Conv2d, nn.Linear))]\n",
        "\n",
        "def global_sparsity(net):\n",
        "    tot = zer = 0\n",
        "    for m in net.modules():\n",
        "        if isinstance(m, (nn.Conv2d, nn.Linear)):\n",
        "            W = m.weight\n",
        "            tot += W.numel()\n",
        "            zer += (W == 0).sum().item()\n",
        "    return zer / max(1, tot)\n",
        "\n",
        "print(f\"Baseline sparsity: {global_sparsity(model):.2f}\")\n",
        "test_model(model, test_data, mode=mode)\n",
        "\n",
        "for pct in range(10,90,10):\n",
        "    prune.global_unstructured(pairs,pruning_method=prune.L1Unstructured,amount=pct / 100.0,)\n",
        "    sp = global_sparsity(model)\n",
        "    print(f\"Target {pct:>2d}% | actual sparsity {sp:.2f}\")\n",
        "    test_model(model, test_data, mode=mode)\n",
        "\n",
        "# *****END OF YOUR CODE (DO NOT DELETE/MODIFY THIS LINE)*****\n",
        "################################################################################\n",
        "#                              END OF YOUR CODE                                #\n",
        "################################################################################"
      ],
      "metadata": {
        "id": "KaGWTxBcmkzc",
        "colab": {
          "base_uri": "https://localhost:8080/"
        },
        "outputId": "1ecca2fb-5ae4-4287-c37a-2b41584941e7"
      },
      "execution_count": 18,
      "outputs": [
        {
          "output_type": "stream",
          "name": "stdout",
          "text": [
            "Baseline sparsity: 0.00\n",
            "Test Acc: 0.5065\n",
            "Target 10% | actual sparsity 0.10\n",
            "Test Acc: 0.5138\n",
            "Target 20% | actual sparsity 0.28\n",
            "Test Acc: 0.5025\n",
            "Target 30% | actual sparsity 0.50\n",
            "Test Acc: 0.4819\n",
            "Target 40% | actual sparsity 0.70\n",
            "Test Acc: 0.4698\n",
            "Target 50% | actual sparsity 0.85\n",
            "Test Acc: 0.3982\n",
            "Target 60% | actual sparsity 0.94\n",
            "Test Acc: 0.2743\n",
            "Target 70% | actual sparsity 0.98\n",
            "Test Acc: 0.1751\n",
            "Target 80% | actual sparsity 1.00\n",
            "Test Acc: 0.1667\n"
          ]
        }
      ]
    },
    {
      "cell_type": "markdown",
      "source": [
        "## Inline Question 1:\n",
        "\n",
        "What happened with the accuracy as the % of pruning increased ?\n",
        "Why was that the case?\n",
        "\n",
        "\n",
        "## Answer:\n",
        "Accuracy stayed close to baseline at low pruning rates, the nstarted dropping pretty fast after 40%, in the end at 80%, the accuracy is only 16%. Because pruning at a small scale removes redundant connections with little effect to the overall network, but when it grows bigger it started to remove the really important weights thus affecting accuracy."
      ],
      "metadata": {
        "id": "zH6e3pCMm2in"
      }
    },
    {
      "cell_type": "markdown",
      "metadata": {
        "tags": [
          "pdf-ignore"
        ],
        "id": "JN5CMlgUd_gj"
      },
      "source": [
        "## Structured Pruning\n",
        "\n",
        "Structured Pruning consists of removing a bigger chunk of the network parameters at the same time. Instead of removing only a few weights, it is commonplace to remove entire neurons.\n",
        "\n",
        "For example, in Convolutional Layers, removing filters can be beneficial to improve performance as it greatly decreases the amount of computation performed. However, some of these changes may affect output dimensions which may be carried over to other parts of the network. Therefore, when performing structured pruning one must always be aware of which parameters are going to be affected."
      ]
    },
    {
      "cell_type": "markdown",
      "source": [
        "Using the previously trained model in the CINIC-10, perform Structured Prunning only in the Convolution layers of the DNN."
      ],
      "metadata": {
        "id": "fAr9SLo25Gyx"
      }
    },
    {
      "cell_type": "code",
      "source": [
        "################################################################################\n",
        "# TODO: Perform unstrucuted Pruning over the trained model using 3 different\n",
        "# prunning percentages.\n",
        "################################################################################\n",
        "# *****START OF YOUR CODE (DO NOT DELETE/MODIFY THIS LINE)*****\n",
        "import torch.nn as nn\n",
        "import torch.nn.utils.prune as prune\n",
        "\n",
        "conv_layers = [m for m in model.modules() if isinstance(m, nn.Conv2d)]\n",
        "for pct in range(10,90,10):\n",
        "    for m in conv_layers:\n",
        "        prune.ln_structured(m, name=\"weight\", amount=pct/100, n=2, dim=0)\n",
        "    print(f\"\\n{int(pct)}% filters removed\")\n",
        "    test_model(model, test_data, mode=mode)\n",
        "# *****END OF YOUR CODE (DO NOT DELETE/MODIFY THIS LINE)*****\n",
        "################################################################################\n",
        "#                              END OF YOUR CODE                                #\n",
        "################################################################################"
      ],
      "metadata": {
        "id": "JFPiHtBohTus",
        "colab": {
          "base_uri": "https://localhost:8080/"
        },
        "outputId": "7a51eddf-fc7c-4d66-c916-8692cbaaad85"
      },
      "execution_count": 22,
      "outputs": [
        {
          "output_type": "stream",
          "name": "stdout",
          "text": [
            "\n",
            "10% filters removed\n",
            "Test Acc: 0.3614\n",
            "\n",
            "20% filters removed\n",
            "Test Acc: 0.1842\n",
            "\n",
            "30% filters removed\n",
            "Test Acc: 0.1950\n",
            "\n",
            "40% filters removed\n",
            "Test Acc: 0.1730\n",
            "\n",
            "50% filters removed\n",
            "Test Acc: 0.1780\n",
            "\n",
            "60% filters removed\n",
            "Test Acc: 0.1669\n",
            "\n",
            "70% filters removed\n",
            "Test Acc: 0.1653\n",
            "\n",
            "80% filters removed\n",
            "Test Acc: 0.1696\n"
          ]
        }
      ]
    },
    {
      "cell_type": "markdown",
      "metadata": {
        "id": "h85dg7kVd_gk"
      },
      "source": [
        "## Inline Question 2:\n",
        "\n",
        "What is the difference between performing Structured Pruning vs Dropout ?\n",
        "Why would it be beneficial to perform both techniques when developing a Neural Network?\n",
        "\n",
        "\n",
        "## Answer:\n",
        "\n",
        "structured pruning removes whole structures and it changes the architecture of the NN, Dropouts only randomly zeroes activation functions during training. the model is still dense. We use both because they provide independent benefits. Dropout improves generalization and pruning makes the model smaller without sacrificing much performance.\n"
      ]
    }
  ],
  "metadata": {
    "colab": {
      "provenance": []
    },
    "language_info": {
      "name": "python"
    },
    "kernelspec": {
      "name": "python3",
      "display_name": "Python 3"
    },
    "gpuClass": "standard"
  },
  "nbformat": 4,
  "nbformat_minor": 0
}